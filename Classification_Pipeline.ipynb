{
 "cells": [
  {
   "cell_type": "markdown",
   "metadata": {},
   "source": [
    "# Sleep-Wake and Sleep Quality Recognition Pipeline"
   ]
  },
  {
   "cell_type": "markdown",
   "metadata": {},
   "source": [
    "This notebook contains the classification pipeline for creating *personalized* and *population models* similar to the paper as follows: \n",
    "\n",
    "[1] S. Gashi, L. Alecci, E. D. Lascio, M. E. Debus, F. Gasparini and S. Santini, \"The Role of Model Personalization for Sleep Stage and Sleep Quality Recognition Using Wearables,\" in IEEE Pervasive Computing, doi: 10.1109/MPRV.2022.3164334.\n",
    "\n",
    "If you use snippets of this script, please make sure to cite our paper [1], which is available at: https://ieeexplore.ieee.org/document/9768202 \n"
   ]
  },
  {
   "cell_type": "markdown",
   "metadata": {},
   "source": [
    "### Import the libraries needed for running the script"
   ]
  },
  {
   "cell_type": "code",
   "execution_count": 8,
   "metadata": {},
   "outputs": [],
   "source": [
    "import pandas as pd\n",
    "import numpy as np\n",
    "from sklearn.dummy import DummyClassifier\n",
    "from sklearn.tree import DecisionTreeClassifier\n",
    "from sklearn.ensemble import AdaBoostClassifier, RandomForestClassifier\n",
    "from sklearn.discriminant_analysis import QuadraticDiscriminantAnalysis\n",
    "from sklearn.discriminant_analysis import LinearDiscriminantAnalysis\n",
    "from sklearn.linear_model import LogisticRegression\n",
    "from sklearn.neural_network import MLPClassifier\n",
    "from sklearn.neighbors import KNeighborsClassifier\n",
    "from xgboost import XGBClassifier\n",
    "from sklearn.svm import SVC\n",
    "from sklearn.metrics import average_precision_score, confusion_matrix, classification_report, balanced_accuracy_score\n",
    "from sklearn import metrics\n",
    "from sklearn.preprocessing import StandardScaler"
   ]
  },
  {
   "cell_type": "markdown",
   "metadata": {},
   "source": [
    "### Classification pipeline"
   ]
  },
  {
   "cell_type": "code",
   "execution_count": 9,
   "metadata": {},
   "outputs": [],
   "source": [
    "def classification_pipeline(final, label, features, model_type):\n",
    "    seed = 42\n",
    "\n",
    "    classificationReportDF = pd.DataFrame()\n",
    "    cols = ['Session', 'Classifier', 'Accuracy', 'Precision', 'Recall', 'F1', 'AccuracyB']\n",
    "    results = pd.DataFrame(columns = cols)\n",
    "\n",
    "    for session in final['Participant'].unique():\n",
    "        \n",
    "        # Create the training and test set\n",
    "        if model_type == 'Personalized':\n",
    "            tmp = final[final['Participant'] == session]['SessionID'].max() - final[final['Participant'] == session]['SessionID'].mean()\n",
    "            test_select = final[(final['Participant'] == session) & (final['SessionID'] > tmp)]\n",
    "            train_select_1 = final[final['Participant'] != session]\n",
    "            train_select_2 = final[(final['Participant'] == session) & (final['SessionID'] <= tmp)]\n",
    "            train_select = pd.concat([train_select_1, train_select_2], axis=0)\n",
    "        else:\n",
    "            test_select = final[final['Participant'] == session]\n",
    "            train_select = final[final['Participant'] != session]\n",
    "\n",
    "\n",
    "        train_data = []\n",
    "        train_labels = []\n",
    "\n",
    "        # Prepare the train set \n",
    "        train_subselect = train_select[features]\n",
    "        train_data = train_subselect.values\n",
    "        train_labels = train_select[label].values\n",
    "\n",
    "        # Prepare the test set \n",
    "        test_subselect = test_select[features]\n",
    "        test_data = test_subselect.values\n",
    "        test_labels = test_select[label].values\n",
    "\n",
    "        ''' Normalize the features '''\n",
    "        scaler = StandardScaler()\n",
    "        train_data = scaler.fit_transform(train_data)\n",
    "        test_data = scaler.transform(test_data)\n",
    "\n",
    "        ''' Initialize other classifiers'''\n",
    "        classifiers = []\n",
    "        classifiers.append(('DummyS', DummyClassifier(strategy='stratified')))\n",
    "        classifiers.append(('DummyC', DummyClassifier(strategy='constant', constant=train_select.SleepAwake_Label.value_counts().idxmax())))\n",
    "        classifiers.append(('SVM', SVC(random_state=seed, class_weight='balanced')))\n",
    "        classifiers.append(('DT', DecisionTreeClassifier(random_state=42)))\n",
    "        classifiers.append(('kNN', KNeighborsClassifier()))\n",
    "        classifiers.append(('RF', RandomForestClassifier()))\n",
    "        classifiers.append(('MLP', MLPClassifier()))\n",
    "        classifiers.append(('XGBoost', XGBClassifier()))\n",
    "\n",
    "\n",
    "        #Train on the train set, predict the validation and test sets\n",
    "        for (name,c) in classifiers:\n",
    "            c = c.fit(train_data, train_labels)\n",
    "\n",
    "            result = []\n",
    "            result.append(session) \n",
    "            result.append(name)\n",
    "\n",
    "            predictions_test = c.predict(test_data)\n",
    "            result.append(metrics.accuracy_score(test_labels, predictions_test))\n",
    "            result.append(metrics.precision_score(test_labels, predictions_test, average='weighted'))\n",
    "            result.append(metrics.recall_score(test_labels, predictions_test, average='weighted'))\n",
    "            result.append(metrics.f1_score(test_labels, predictions_test, average='weighted'))\n",
    "            result.append(metrics.balanced_accuracy_score(test_labels, predictions_test))\n",
    "\n",
    "            report = classification_report(test_labels, predictions_test, output_dict=True)\n",
    "            report_df = pd.DataFrame(report).transpose()\n",
    "            report_df['Classifier'] = name\n",
    "            report_df[\"Participant\"] = session\n",
    "\n",
    "            report_df = pd.concat([report_df, classificationReportDF], axis=0)\n",
    "            classificationReportDF = report_df\n",
    "\n",
    "            print(classification_report(test_labels, predictions_test))\n",
    "            print(confusion_matrix(test_labels, predictions_test))\n",
    "\n",
    "            row = pd.Series(result,cols)\n",
    "            results = results.append([row],ignore_index=True)\n",
    "\n",
    "    return results"
   ]
  },
  {
   "cell_type": "code",
   "execution_count": 10,
   "metadata": {},
   "outputs": [],
   "source": [
    "final = pd.read_csv(path_to_features_file)  #TODO: Define\n",
    "results = classification_pipeline(final, 'SleepWake_Label', features_list, 'Personalized')  #TODO: features_list\n",
    "results.groupby('Classifier').mean()"
   ]
  }
 ],
 "metadata": {
  "jupytext": {
   "cell_metadata_filter": "-all",
   "main_language": "python",
   "notebook_metadata_filter": "-all"
  },
  "kernelspec": {
   "display_name": "Python 3",
   "language": "python",
   "name": "python3"
  },
  "language_info": {
   "codemirror_mode": {
    "name": "ipython",
    "version": 3
   },
   "file_extension": ".py",
   "mimetype": "text/x-python",
   "name": "python",
   "nbconvert_exporter": "python",
   "pygments_lexer": "ipython3",
   "version": "3.7.6"
  }
 },
 "nbformat": 4,
 "nbformat_minor": 4
}
